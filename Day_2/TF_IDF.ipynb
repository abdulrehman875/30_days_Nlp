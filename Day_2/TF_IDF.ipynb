{
  "nbformat": 4,
  "nbformat_minor": 0,
  "metadata": {
    "colab": {
      "provenance": []
    },
    "kernelspec": {
      "name": "python3",
      "display_name": "Python 3"
    },
    "language_info": {
      "name": "python"
    }
  },
  "cells": [
    {
      "cell_type": "markdown",
      "source": [
        "# TF-IDF"
      ],
      "metadata": {
        "id": "V1O-w0D8CG-V"
      }
    },
    {
      "cell_type": "markdown",
      "source": [
        "# Sentiment Analysis"
      ],
      "metadata": {
        "id": "BIXGA9EhCiQ9"
      }
    },
    {
      "cell_type": "code",
      "execution_count": null,
      "metadata": {
        "id": "F8pY1yApHqNr"
      },
      "outputs": [],
      "source": [
        "from sklearn.feature_extraction.text import TfidfVectorizer"
      ]
    },
    {
      "cell_type": "code",
      "source": [
        "corpus = [\n",
        "    \"Apple Inc. is a technology company headquartered in Cupertino, California. It designs, manufactures, and sells consumer electronics like the iPhone and MacBook.\",\n",
        "    \"Microsoft Corporation is an American multinational technology company that develops, manufactures, licenses, supports, and sells computer software, consumer electronics, and personal computers.\",\n",
        "    \"The new restaurant in town offers a variety of cuisines from around the world, including Italian, Mexican, and Chinese.\",\n",
        "    \"The latest fashion trends include bold colors and geometric patterns. Fashion enthusiasts are experimenting with new styles this season.\",\n",
        "    \"Amazon.com, Inc. is an American multinational technology company focusing on e-commerce, cloud computing, digital streaming, and artificial intelligence.\",\n",
        "    \"The quick brown fox jumps over the brown dog.\"\n",
        "]\n",
        "v=TfidfVectorizer()\n",
        "transformed_out=v.fit_transform(corpus)\n",
        "print(v.vocabulary_)\n",
        "feature_names = v.get_feature_names_out()\n",
        "\n",
        "print(\"Feature names:\", feature_names)\n"
      ],
      "metadata": {
        "colab": {
          "base_uri": "https://localhost:8080/"
        },
        "id": "qsy5RKWz4pSA",
        "outputId": "123ec614-13bb-49a3-f4fe-0897d8434b12"
      },
      "execution_count": null,
      "outputs": [
        {
          "output_type": "stream",
          "name": "stdout",
          "text": [
            "{'apple': 4, 'inc': 38, 'is': 43, 'technology': 70, 'company': 16, 'headquartered': 36, 'in': 37, 'cupertino': 23, 'california': 10, 'it': 44, 'designs': 24, 'manufactures': 51, 'and': 3, 'sells': 65, 'consumer': 20, 'electronics': 28, 'like': 49, 'the': 72, 'iphone': 42, 'macbook': 50, 'microsoft': 53, 'corporation': 21, 'an': 2, 'american': 1, 'multinational': 54, 'that': 71, 'develops': 25, 'licenses': 48, 'supports': 69, 'computer': 17, 'software': 66, 'personal': 61, 'computers': 18, 'new': 55, 'restaurant': 63, 'town': 74, 'offers': 57, 'variety': 76, 'of': 56, 'cuisines': 22, 'from': 34, 'around': 6, 'world': 78, 'including': 40, 'italian': 45, 'mexican': 52, 'chinese': 11, 'latest': 47, 'fashion': 31, 'trends': 75, 'include': 39, 'bold': 8, 'colors': 13, 'geometric': 35, 'patterns': 60, 'enthusiasts': 29, 'are': 5, 'experimenting': 30, 'with': 77, 'styles': 68, 'this': 73, 'season': 64, 'amazon': 0, 'com': 14, 'focusing': 32, 'on': 58, 'commerce': 15, 'cloud': 12, 'computing': 19, 'digital': 26, 'streaming': 67, 'artificial': 7, 'intelligence': 41, 'quick': 62, 'brown': 9, 'fox': 33, 'jumps': 46, 'over': 59, 'dog': 27}\n",
            "Feature names: ['amazon' 'american' 'an' 'and' 'apple' 'are' 'around' 'artificial' 'bold'\n",
            " 'brown' 'california' 'chinese' 'cloud' 'colors' 'com' 'commerce'\n",
            " 'company' 'computer' 'computers' 'computing' 'consumer' 'corporation'\n",
            " 'cuisines' 'cupertino' 'designs' 'develops' 'digital' 'dog' 'electronics'\n",
            " 'enthusiasts' 'experimenting' 'fashion' 'focusing' 'fox' 'from'\n",
            " 'geometric' 'headquartered' 'in' 'inc' 'include' 'including'\n",
            " 'intelligence' 'iphone' 'is' 'it' 'italian' 'jumps' 'latest' 'licenses'\n",
            " 'like' 'macbook' 'manufactures' 'mexican' 'microsoft' 'multinational'\n",
            " 'new' 'of' 'offers' 'on' 'over' 'patterns' 'personal' 'quick'\n",
            " 'restaurant' 'season' 'sells' 'software' 'streaming' 'styles' 'supports'\n",
            " 'technology' 'that' 'the' 'this' 'town' 'trends' 'variety' 'with' 'world']\n"
          ]
        }
      ]
    },
    {
      "cell_type": "code",
      "source": [
        "for word in feature_names:\n",
        "  indx=v.vocabulary_.get(word)\n",
        "  print(f\"{word}_{indx} = {v.idf_[indx]}\")"
      ],
      "metadata": {
        "colab": {
          "base_uri": "https://localhost:8080/"
        },
        "id": "UQxj90Yd7tO_",
        "outputId": "2c37b2e7-758f-4913-e397-d4d336835cf1"
      },
      "execution_count": null,
      "outputs": [
        {
          "output_type": "stream",
          "name": "stdout",
          "text": [
            "amazon_0 = 2.252762968495368\n",
            "american_1 = 1.8472978603872037\n",
            "an_2 = 1.8472978603872037\n",
            "and_3 = 1.1541506798272583\n",
            "apple_4 = 2.252762968495368\n",
            "are_5 = 2.252762968495368\n",
            "around_6 = 2.252762968495368\n",
            "artificial_7 = 2.252762968495368\n",
            "bold_8 = 2.252762968495368\n",
            "brown_9 = 2.252762968495368\n",
            "california_10 = 2.252762968495368\n",
            "chinese_11 = 2.252762968495368\n",
            "cloud_12 = 2.252762968495368\n",
            "colors_13 = 2.252762968495368\n",
            "com_14 = 2.252762968495368\n",
            "commerce_15 = 2.252762968495368\n",
            "company_16 = 1.5596157879354227\n",
            "computer_17 = 2.252762968495368\n",
            "computers_18 = 2.252762968495368\n",
            "computing_19 = 2.252762968495368\n",
            "consumer_20 = 1.8472978603872037\n",
            "corporation_21 = 2.252762968495368\n",
            "cuisines_22 = 2.252762968495368\n",
            "cupertino_23 = 2.252762968495368\n",
            "designs_24 = 2.252762968495368\n",
            "develops_25 = 2.252762968495368\n",
            "digital_26 = 2.252762968495368\n",
            "dog_27 = 2.252762968495368\n",
            "electronics_28 = 1.8472978603872037\n",
            "enthusiasts_29 = 2.252762968495368\n",
            "experimenting_30 = 2.252762968495368\n",
            "fashion_31 = 2.252762968495368\n",
            "focusing_32 = 2.252762968495368\n",
            "fox_33 = 2.252762968495368\n",
            "from_34 = 2.252762968495368\n",
            "geometric_35 = 2.252762968495368\n",
            "headquartered_36 = 2.252762968495368\n",
            "in_37 = 1.8472978603872037\n",
            "inc_38 = 1.8472978603872037\n",
            "include_39 = 2.252762968495368\n",
            "including_40 = 2.252762968495368\n",
            "intelligence_41 = 2.252762968495368\n",
            "iphone_42 = 2.252762968495368\n",
            "is_43 = 1.5596157879354227\n",
            "it_44 = 2.252762968495368\n",
            "italian_45 = 2.252762968495368\n",
            "jumps_46 = 2.252762968495368\n",
            "latest_47 = 2.252762968495368\n",
            "licenses_48 = 2.252762968495368\n",
            "like_49 = 2.252762968495368\n",
            "macbook_50 = 2.252762968495368\n",
            "manufactures_51 = 1.8472978603872037\n",
            "mexican_52 = 2.252762968495368\n",
            "microsoft_53 = 2.252762968495368\n",
            "multinational_54 = 1.8472978603872037\n",
            "new_55 = 1.8472978603872037\n",
            "of_56 = 2.252762968495368\n",
            "offers_57 = 2.252762968495368\n",
            "on_58 = 2.252762968495368\n",
            "over_59 = 2.252762968495368\n",
            "patterns_60 = 2.252762968495368\n",
            "personal_61 = 2.252762968495368\n",
            "quick_62 = 2.252762968495368\n",
            "restaurant_63 = 2.252762968495368\n",
            "season_64 = 2.252762968495368\n",
            "sells_65 = 1.8472978603872037\n",
            "software_66 = 2.252762968495368\n",
            "streaming_67 = 2.252762968495368\n",
            "styles_68 = 2.252762968495368\n",
            "supports_69 = 2.252762968495368\n",
            "technology_70 = 1.5596157879354227\n",
            "that_71 = 2.252762968495368\n",
            "the_72 = 1.336472236621213\n",
            "this_73 = 2.252762968495368\n",
            "town_74 = 2.252762968495368\n",
            "trends_75 = 2.252762968495368\n",
            "variety_76 = 2.252762968495368\n",
            "with_77 = 2.252762968495368\n",
            "world_78 = 2.252762968495368\n"
          ]
        }
      ]
    },
    {
      "cell_type": "code",
      "source": [
        "print(corpus[5])\n",
        "print(transformed_out.toarray()[5])"
      ],
      "metadata": {
        "colab": {
          "base_uri": "https://localhost:8080/"
        },
        "id": "fOB73Xyz98wg",
        "outputId": "5a2de205-5878-4bf2-b11b-19dc5563f206"
      },
      "execution_count": null,
      "outputs": [
        {
          "output_type": "stream",
          "name": "stdout",
          "text": [
            "The quick brown fox jumps over the brown dog.\n",
            "[0.         0.         0.         0.         0.         0.\n",
            " 0.         0.         0.         0.61994047 0.         0.\n",
            " 0.         0.         0.         0.         0.         0.\n",
            " 0.         0.         0.         0.         0.         0.\n",
            " 0.         0.         0.         0.30997024 0.         0.\n",
            " 0.         0.         0.         0.30997024 0.         0.\n",
            " 0.         0.         0.         0.         0.         0.\n",
            " 0.         0.         0.         0.         0.30997024 0.\n",
            " 0.         0.         0.         0.         0.         0.\n",
            " 0.         0.         0.         0.         0.         0.30997024\n",
            " 0.         0.         0.30997024 0.         0.         0.\n",
            " 0.         0.         0.         0.         0.         0.\n",
            " 0.36778536 0.         0.         0.         0.         0.\n",
            " 0.        ]\n"
          ]
        }
      ]
    },
    {
      "cell_type": "markdown",
      "source": [
        "# Sentiment Analysis Using VADER ( Valence Aware Dictionary and sEntiment Reasoner.)"
      ],
      "metadata": {
        "id": "6DtZvUDb-2-8"
      }
    },
    {
      "cell_type": "code",
      "source": [
        "!pip install vaderSentiment"
      ],
      "metadata": {
        "colab": {
          "base_uri": "https://localhost:8080/"
        },
        "id": "mHRFT3bm-m72",
        "outputId": "b5fffbb3-ee29-445d-fe54-8bb50850b4de"
      },
      "execution_count": null,
      "outputs": [
        {
          "output_type": "stream",
          "name": "stdout",
          "text": [
            "Collecting vaderSentiment\n",
            "  Downloading vaderSentiment-3.3.2-py2.py3-none-any.whl (125 kB)\n",
            "\u001b[2K     \u001b[90m━━━━━━━━━━━━━━━━━━━━━━━━━━━━━━━━━━━━━━━━\u001b[0m \u001b[32m126.0/126.0 kB\u001b[0m \u001b[31m3.2 MB/s\u001b[0m eta \u001b[36m0:00:00\u001b[0m\n",
            "\u001b[?25hRequirement already satisfied: requests in /usr/local/lib/python3.10/dist-packages (from vaderSentiment) (2.31.0)\n",
            "Requirement already satisfied: charset-normalizer<4,>=2 in /usr/local/lib/python3.10/dist-packages (from requests->vaderSentiment) (3.3.2)\n",
            "Requirement already satisfied: idna<4,>=2.5 in /usr/local/lib/python3.10/dist-packages (from requests->vaderSentiment) (3.7)\n",
            "Requirement already satisfied: urllib3<3,>=1.21.1 in /usr/local/lib/python3.10/dist-packages (from requests->vaderSentiment) (2.0.7)\n",
            "Requirement already satisfied: certifi>=2017.4.17 in /usr/local/lib/python3.10/dist-packages (from requests->vaderSentiment) (2024.2.2)\n",
            "Installing collected packages: vaderSentiment\n",
            "Successfully installed vaderSentiment-3.3.2\n"
          ]
        }
      ]
    },
    {
      "cell_type": "code",
      "source": [
        "from vaderSentiment.vaderSentiment import SentimentIntensityAnalyzer\n",
        "\n",
        "# Initialize the VADER sentiment analyzer\n",
        "analyzer = SentimentIntensityAnalyzer()\n",
        "\n",
        "# Sample text for sentiment analysis\n",
        "sentences=[\"I love this product, it's amazing!\",\n",
        "           \"I'm really disappointed with the quality of the product I received, it's not at all what I expected.\",\n",
        "           \"Today's meeting agenda includes updates on the project timeline and discussion of upcoming tasks.\"]\n",
        "\n",
        "# Analyze sentiment\n",
        "for sentence in sentences:\n",
        "  sentiment_scores = analyzer.polarity_scores(sentence)\n",
        "  # Print sentiment scores\n",
        "  print(\"Sentence:\", sentence)\n",
        "\n",
        "  print(\"Sentiment Scores:\", sentiment_scores)\n",
        "  # Determine sentiment based on compound score\n",
        "  if sentiment_scores['compound'] >= 0.05:\n",
        "    print(\"Positive Sentiment\")\n",
        "  elif sentiment_scores['compound'] <= -0.05:\n",
        "    print(\"Negative Sentiment\")\n",
        "  else:\n",
        "    print(\"Neutral Sentiment\")\n",
        "\n",
        "\n",
        "\n"
      ],
      "metadata": {
        "colab": {
          "base_uri": "https://localhost:8080/"
        },
        "id": "qXwEjcWd-st9",
        "outputId": "10c8dd6b-61d4-4b88-fe46-4b84dd90f63c"
      },
      "execution_count": null,
      "outputs": [
        {
          "output_type": "stream",
          "name": "stdout",
          "text": [
            "Sentence: I love this product, it's amazing!\n",
            "Sentiment Scores: {'neg': 0.0, 'neu': 0.325, 'pos': 0.675, 'compound': 0.8516}\n",
            "Positive Sentiment\n",
            "Sentence: I'm really disappointed with the quality of the product I received, it's not at all what I expected.\n",
            "Sentiment Scores: {'neg': 0.166, 'neu': 0.834, 'pos': 0.0, 'compound': -0.5256}\n",
            "Negative Sentiment\n",
            "Sentence: Today's meeting agenda includes updates on the project timeline and discussion of upcoming tasks.\n",
            "Sentiment Scores: {'neg': 0.0, 'neu': 1.0, 'pos': 0.0, 'compound': 0.0}\n",
            "Neutral Sentiment\n"
          ]
        }
      ]
    },
    {
      "cell_type": "markdown",
      "source": [
        "# Sentiment Analysis Using TF-IDF"
      ],
      "metadata": {
        "id": "vvxYvUhD_Ndb"
      }
    },
    {
      "cell_type": "code",
      "source": [
        "import pandas as pd\n",
        "\n",
        "# Positive sentences\n",
        "positive_sentences = [\n",
        "    \"The sun shone brightly, warming the earth and lifting spirits.\",\n",
        "    \"She completed the marathon, crossing the finish line with a triumphant smile.\",\n",
        "    \"The new restaurant in town serves the most delicious pizza I've ever tasted.\",\n",
        "    \"The children played joyfully in the park, laughing and running around.\",\n",
        "    \"He received a promotion at work, which brought a sense of accomplishment and pride.\",\n",
        "    \"The concert was amazing, with the crowd cheering and singing along to every song.\",\n",
        "    \"After months of hard work, she finally achieved her goal, feeling elated and satisfied.\",\n",
        "    \"The beach vacation was relaxing, with gentle waves and warm sunshine.\",\n",
        "    \"The movie ending was heartwarming, leaving everyone in the theater with smiles on their faces.\",\n",
        "    \"She found a stray puppy and decided to adopt it, bringing happiness to her household.\"\n",
        "]\n",
        "\n",
        "# Neutral sentences\n",
        "neutral_sentences = [\n",
        "    \"The weather forecast predicts scattered showers throughout the afternoon.\",\n",
        "    \"The project deadline is approaching, requiring everyone's full attention.\",\n",
        "    \"The book club meeting is scheduled for Thursday evening at the local library.\",\n",
        "    \"The city council will discuss the proposed budget cuts during the next meeting.\",\n",
        "    \"The train arrived at the station on time, according to the schedule.\",\n",
        "    \"The grocery store is closed for renovation until next month.\",\n",
        "    \"The textbook for the course is available for purchase at the campus bookstore.\",\n",
        "    \"The traffic light turned red, signaling drivers to stop.\",\n",
        "    \"The conference room is reserved for the team meeting at 2 PM.\",\n",
        "    \"The museum exhibition features artwork from various renowned artists.\"\n",
        "]\n",
        "\n",
        "# Negative sentences\n",
        "negative_sentences = [\n",
        "    \"The traffic jam stretched for miles, causing frustration among commuters.\",\n",
        "    \"Despite his efforts, he received a rejection letter from the job he applied for.\",\n",
        "    \"The unexpected expenses drained their savings, leaving them feeling anxious about their finances.\",\n",
        "    \"The storm caused extensive damage to homes and infrastructure in the area.\",\n",
        "    \"She missed her flight due to a delay in public transportation, causing her to arrive late for the meeting.\",\n",
        "    \"His car broke down on the highway, leaving him stranded for hours.\",\n",
        "    \"The internet connection is slow, making it difficult to complete tasks online.\",\n",
        "    \"The restaurant received poor reviews for its food and service, resulting in a decline in customers.\",\n",
        "    \"The company announced layoffs, leaving many employees uncertain about their future.\",\n",
        "    \"The medical test results came back abnormal, leading to concerns about his health.\"\n",
        "]\n",
        "\n",
        "# Combine sentences\n",
        "sentences = positive_sentences + neutral_sentences + negative_sentences\n",
        "\n",
        "# Create labels\n",
        "labels = ['Positive'] * len(positive_sentences) + ['Neutral'] * len(neutral_sentences) + ['Negative'] * len(negative_sentences)\n",
        "\n",
        "# Create DataFrame\n",
        "df = pd.DataFrame({'Sentence': sentences, 'Category': labels})\n",
        "\n",
        "# Shuffle DataFrame\n",
        "df = df.sample(frac=1).reset_index(drop=True)\n",
        "\n",
        "# Mapping categories to numerical values\n",
        "df['Label'] = df['Category'].map({'Negative': -1, 'Neutral': 0, 'Positive': 1})\n",
        "\n",
        "# Display the updated DataFrame\n",
        "print(df.head(5))\n"
      ],
      "metadata": {
        "colab": {
          "base_uri": "https://localhost:8080/"
        },
        "id": "crA4k3QK_XjI",
        "outputId": "a7c4234d-bf61-4dae-f1c9-f0c9348fbfba"
      },
      "execution_count": null,
      "outputs": [
        {
          "output_type": "stream",
          "name": "stdout",
          "text": [
            "                                            Sentence  Category  Label\n",
            "0  The conference room is reserved for the team m...   Neutral      0\n",
            "1  She completed the marathon, crossing the finis...  Positive      1\n",
            "2  The concert was amazing, with the crowd cheeri...  Positive      1\n",
            "3  The city council will discuss the proposed bud...   Neutral      0\n",
            "4  The train arrived at the station on time, acco...   Neutral      0\n"
          ]
        }
      ]
    },
    {
      "cell_type": "code",
      "source": [
        "from sklearn.model_selection import train_test_split\n",
        "\n",
        "# Splitting the DataFrame into features (X) and labels (y) for training and testing sets\n",
        "X_train, X_test, y_train, y_test = train_test_split(df['Sentence'], df['Label'], test_size=0.2, random_state=0)\n",
        "\n",
        "# Printing the sizes of X and y for training and testing sets\n",
        "print(\"X_train size:\", len(X_train))\n",
        "print(\"y_train size:\", len(y_train))\n",
        "print(\"X_test size:\", len(X_test))\n",
        "print(\"y_test size:\", len(y_test))\n",
        "print(X_test)\n"
      ],
      "metadata": {
        "colab": {
          "base_uri": "https://localhost:8080/"
        },
        "id": "6VKeiDs5KNIP",
        "outputId": "1ed6e16e-64a0-4314-d49b-5770fbd83585"
      },
      "execution_count": null,
      "outputs": [
        {
          "output_type": "stream",
          "name": "stdout",
          "text": [
            "X_train size: 24\n",
            "y_train size: 24\n",
            "X_test size: 6\n",
            "y_test size: 6\n",
            "2     The concert was amazing, with the crowd cheeri...\n",
            "28    The museum exhibition features artwork from va...\n",
            "13    The weather forecast predicts scattered shower...\n",
            "10    The beach vacation was relaxing, with gentle w...\n",
            "26    Despite his efforts, he received a rejection l...\n",
            "24    The grocery store is closed for renovation unt...\n",
            "Name: Sentence, dtype: object\n"
          ]
        }
      ]
    },
    {
      "cell_type": "code",
      "source": [
        "from sklearn.feature_extraction.text import TfidfVectorizer\n",
        "from sklearn.naive_bayes import MultinomialNB\n",
        "\n",
        "# Initialize TfidfVectorizer\n",
        "tfidf_vectorizer = TfidfVectorizer()\n",
        "X_train_tfidf = tfidf_vectorizer.fit_transform(X_train)\n",
        "features=tfidf_vectorizer.get_feature_names_out()\n",
        "print(tfidf_vectorizer.vocabulary_)\n",
        "print(features)\n",
        "for word in features:\n",
        "  indx=tfidf_vectorizer.vocabulary_.get(word)\n",
        "  print(f\"{word}_{indx} = {tfidf_vectorizer.idf_[indx]}\")\n",
        "# Initialize Multinomial Naive Bayes classifier\n",
        "classifier = MultinomialNB()\n",
        "\n",
        "# Fit the classifier on the TF-IDF transformed training data\n",
        "classifier.fit(X_train_tfidf, y_train)"
      ],
      "metadata": {
        "colab": {
          "base_uri": "https://localhost:8080/",
          "height": 1000
        },
        "id": "CSiJKZZALe8e",
        "outputId": "b45729cf-f90f-4b14-fe78-4c985504ca5c"
      },
      "execution_count": null,
      "outputs": [
        {
          "output_type": "stream",
          "name": "stdout",
          "text": [
            "{'the': 175, 'medical': 115, 'test': 173, 'results': 145, 'came': 27, 'back': 19, 'abnormal': 0, 'leading': 105, 'to': 181, 'concerns': 39, 'about': 1, 'his': 90, 'health': 85, 'traffic': 183, 'light': 109, 'turned': 187, 'red': 140, 'signaling': 158, 'drivers': 57, 'stop': 164, 'movie': 121, 'ending': 63, 'was': 192, 'heartwarming': 86, 'leaving': 106, 'everyone': 66, 'in': 94, 'theater': 176, 'with': 195, 'smiles': 161, 'on': 125, 'their': 177, 'faces': 69, 'restaurant': 143, 'received': 139, 'poor': 131, 'reviews': 146, 'for': 76, 'its': 99, 'food': 75, 'and': 8, 'service': 155, 'resulting': 144, 'decline': 50, 'customers': 45, 'company': 36, 'announced': 9, 'layoffs': 104, 'many': 113, 'employees': 62, 'uncertain': 188, 'future': 80, 'textbook': 174, 'course': 43, 'is': 97, 'available': 18, 'purchase': 138, 'at': 16, 'campus': 28, 'bookstore': 21, 'he': 84, 'promotion': 134, 'work': 196, 'which': 193, 'brought': 25, 'sense': 153, 'of': 124, 'accomplishment': 2, 'pride': 132, 'storm': 165, 'caused': 30, 'extensive': 68, 'damage': 47, 'homes': 91, 'infrastructure': 95, 'area': 12, 'jam': 100, 'stretched': 168, 'miles': 117, 'causing': 31, 'frustration': 78, 'among': 7, 'commuters': 35, 'sun': 169, 'shone': 157, 'brightly': 22, 'warming': 191, 'earth': 60, 'lifting': 108, 'spirits': 162, 'she': 156, 'completed': 38, 'marathon': 114, 'crossing': 44, 'finish': 73, 'line': 110, 'triumphant': 186, 'smile': 160, 'new': 122, 'town': 182, 'serves': 154, 'most': 120, 'delicious': 52, 'pizza': 128, 've': 190, 'ever': 65, 'tasted': 171, 'unexpected': 189, 'expenses': 67, 'drained': 56, 'savings': 150, 'them': 178, 'feeling': 70, 'anxious': 10, 'finances': 72, 'train': 184, 'arrived': 15, 'station': 163, 'time': 180, 'according': 3, 'schedule': 151, 'project': 133, 'deadline': 48, 'approaching': 11, 'requiring': 141, 'full': 79, 'attention': 17, 'internet': 96, 'connection': 41, 'slow': 159, 'making': 112, 'it': 98, 'difficult': 53, 'complete': 37, 'tasks': 170, 'online': 126, 'missed': 118, 'her': 87, 'flight': 74, 'due': 58, 'delay': 51, 'public': 136, 'transportation': 185, 'arrive': 14, 'late': 102, 'meeting': 116, 'book': 20, 'club': 34, 'scheduled': 152, 'thursday': 179, 'evening': 64, 'local': 111, 'library': 107, 'found': 77, 'stray': 167, 'puppy': 137, 'decided': 49, 'adopt': 5, 'bringing': 23, 'happiness': 82, 'household': 93, 'city': 33, 'council': 42, 'will': 194, 'discuss': 54, 'proposed': 135, 'budget': 26, 'cuts': 46, 'during': 59, 'next': 123, 'conference': 40, 'room': 147, 'reserved': 142, 'team': 172, 'pm': 130, 'after': 6, 'months': 119, 'hard': 83, 'finally': 71, 'achieved': 4, 'goal': 81, 'elated': 61, 'satisfied': 149, 'car': 29, 'broke': 24, 'down': 55, 'highway': 88, 'him': 89, 'stranded': 166, 'hours': 92, 'children': 32, 'played': 129, 'joyfully': 101, 'park': 127, 'laughing': 103, 'running': 148, 'around': 13}\n",
            "['abnormal' 'about' 'accomplishment' 'according' 'achieved' 'adopt'\n",
            " 'after' 'among' 'and' 'announced' 'anxious' 'approaching' 'area' 'around'\n",
            " 'arrive' 'arrived' 'at' 'attention' 'available' 'back' 'book' 'bookstore'\n",
            " 'brightly' 'bringing' 'broke' 'brought' 'budget' 'came' 'campus' 'car'\n",
            " 'caused' 'causing' 'children' 'city' 'club' 'commuters' 'company'\n",
            " 'complete' 'completed' 'concerns' 'conference' 'connection' 'council'\n",
            " 'course' 'crossing' 'customers' 'cuts' 'damage' 'deadline' 'decided'\n",
            " 'decline' 'delay' 'delicious' 'difficult' 'discuss' 'down' 'drained'\n",
            " 'drivers' 'due' 'during' 'earth' 'elated' 'employees' 'ending' 'evening'\n",
            " 'ever' 'everyone' 'expenses' 'extensive' 'faces' 'feeling' 'finally'\n",
            " 'finances' 'finish' 'flight' 'food' 'for' 'found' 'frustration' 'full'\n",
            " 'future' 'goal' 'happiness' 'hard' 'he' 'health' 'heartwarming' 'her'\n",
            " 'highway' 'him' 'his' 'homes' 'hours' 'household' 'in' 'infrastructure'\n",
            " 'internet' 'is' 'it' 'its' 'jam' 'joyfully' 'late' 'laughing' 'layoffs'\n",
            " 'leading' 'leaving' 'library' 'lifting' 'light' 'line' 'local' 'making'\n",
            " 'many' 'marathon' 'medical' 'meeting' 'miles' 'missed' 'months' 'most'\n",
            " 'movie' 'new' 'next' 'of' 'on' 'online' 'park' 'pizza' 'played' 'pm'\n",
            " 'poor' 'pride' 'project' 'promotion' 'proposed' 'public' 'puppy'\n",
            " 'purchase' 'received' 'red' 'requiring' 'reserved' 'restaurant'\n",
            " 'resulting' 'results' 'reviews' 'room' 'running' 'satisfied' 'savings'\n",
            " 'schedule' 'scheduled' 'sense' 'serves' 'service' 'she' 'shone'\n",
            " 'signaling' 'slow' 'smile' 'smiles' 'spirits' 'station' 'stop' 'storm'\n",
            " 'stranded' 'stray' 'stretched' 'sun' 'tasks' 'tasted' 'team' 'test'\n",
            " 'textbook' 'the' 'theater' 'their' 'them' 'thursday' 'time' 'to' 'town'\n",
            " 'traffic' 'train' 'transportation' 'triumphant' 'turned' 'uncertain'\n",
            " 'unexpected' 've' 'warming' 'was' 'which' 'will' 'with' 'work']\n",
            "abnormal_0 = 3.5257286443082556\n",
            "about_1 = 2.83258146374831\n",
            "accomplishment_2 = 3.5257286443082556\n",
            "according_3 = 3.5257286443082556\n",
            "achieved_4 = 3.5257286443082556\n",
            "adopt_5 = 3.5257286443082556\n",
            "after_6 = 3.5257286443082556\n",
            "among_7 = 3.5257286443082556\n",
            "and_8 = 2.139434283188365\n",
            "announced_9 = 3.5257286443082556\n",
            "anxious_10 = 3.5257286443082556\n",
            "approaching_11 = 3.5257286443082556\n",
            "area_12 = 3.5257286443082556\n",
            "around_13 = 3.5257286443082556\n",
            "arrive_14 = 3.5257286443082556\n",
            "arrived_15 = 3.5257286443082556\n",
            "at_16 = 2.4271163556401456\n",
            "attention_17 = 3.5257286443082556\n",
            "available_18 = 3.5257286443082556\n",
            "back_19 = 3.5257286443082556\n",
            "book_20 = 3.5257286443082556\n",
            "bookstore_21 = 3.5257286443082556\n",
            "brightly_22 = 3.5257286443082556\n",
            "bringing_23 = 3.5257286443082556\n",
            "broke_24 = 3.5257286443082556\n",
            "brought_25 = 3.5257286443082556\n",
            "budget_26 = 3.5257286443082556\n",
            "came_27 = 3.5257286443082556\n",
            "campus_28 = 3.5257286443082556\n",
            "car_29 = 3.5257286443082556\n",
            "caused_30 = 3.5257286443082556\n",
            "causing_31 = 3.120263536200091\n",
            "children_32 = 3.5257286443082556\n",
            "city_33 = 3.5257286443082556\n",
            "club_34 = 3.5257286443082556\n",
            "commuters_35 = 3.5257286443082556\n",
            "company_36 = 3.5257286443082556\n",
            "complete_37 = 3.5257286443082556\n",
            "completed_38 = 3.5257286443082556\n",
            "concerns_39 = 3.5257286443082556\n",
            "conference_40 = 3.5257286443082556\n",
            "connection_41 = 3.5257286443082556\n",
            "council_42 = 3.5257286443082556\n",
            "course_43 = 3.5257286443082556\n",
            "crossing_44 = 3.5257286443082556\n",
            "customers_45 = 3.5257286443082556\n",
            "cuts_46 = 3.5257286443082556\n",
            "damage_47 = 3.5257286443082556\n",
            "deadline_48 = 3.5257286443082556\n",
            "decided_49 = 3.5257286443082556\n",
            "decline_50 = 3.5257286443082556\n",
            "delay_51 = 3.5257286443082556\n",
            "delicious_52 = 3.5257286443082556\n",
            "difficult_53 = 3.5257286443082556\n",
            "discuss_54 = 3.5257286443082556\n",
            "down_55 = 3.5257286443082556\n",
            "drained_56 = 3.5257286443082556\n",
            "drivers_57 = 3.5257286443082556\n",
            "due_58 = 3.5257286443082556\n",
            "during_59 = 3.5257286443082556\n",
            "earth_60 = 3.5257286443082556\n",
            "elated_61 = 3.5257286443082556\n",
            "employees_62 = 3.5257286443082556\n",
            "ending_63 = 3.5257286443082556\n",
            "evening_64 = 3.5257286443082556\n",
            "ever_65 = 3.5257286443082556\n",
            "everyone_66 = 3.120263536200091\n",
            "expenses_67 = 3.5257286443082556\n",
            "extensive_68 = 3.5257286443082556\n",
            "faces_69 = 3.5257286443082556\n",
            "feeling_70 = 3.120263536200091\n",
            "finally_71 = 3.5257286443082556\n",
            "finances_72 = 3.5257286443082556\n",
            "finish_73 = 3.5257286443082556\n",
            "flight_74 = 3.5257286443082556\n",
            "food_75 = 3.5257286443082556\n",
            "for_76 = 2.139434283188365\n",
            "found_77 = 3.5257286443082556\n",
            "frustration_78 = 3.5257286443082556\n",
            "full_79 = 3.5257286443082556\n",
            "future_80 = 3.5257286443082556\n",
            "goal_81 = 3.5257286443082556\n",
            "happiness_82 = 3.5257286443082556\n",
            "hard_83 = 3.5257286443082556\n",
            "he_84 = 3.5257286443082556\n",
            "health_85 = 3.5257286443082556\n",
            "heartwarming_86 = 3.5257286443082556\n",
            "her_87 = 2.83258146374831\n",
            "highway_88 = 3.5257286443082556\n",
            "him_89 = 3.5257286443082556\n",
            "his_90 = 3.120263536200091\n",
            "homes_91 = 3.5257286443082556\n",
            "hours_92 = 3.5257286443082556\n",
            "household_93 = 3.5257286443082556\n",
            "in_94 = 2.2729656758128876\n",
            "infrastructure_95 = 3.5257286443082556\n",
            "internet_96 = 3.5257286443082556\n",
            "is_97 = 2.4271163556401456\n",
            "it_98 = 3.120263536200091\n",
            "its_99 = 3.5257286443082556\n",
            "jam_100 = 3.5257286443082556\n",
            "joyfully_101 = 3.5257286443082556\n",
            "late_102 = 3.5257286443082556\n",
            "laughing_103 = 3.5257286443082556\n",
            "layoffs_104 = 3.5257286443082556\n",
            "leading_105 = 3.5257286443082556\n",
            "leaving_106 = 2.6094379124341005\n",
            "library_107 = 3.5257286443082556\n",
            "lifting_108 = 3.5257286443082556\n",
            "light_109 = 3.5257286443082556\n",
            "line_110 = 3.5257286443082556\n",
            "local_111 = 3.5257286443082556\n",
            "making_112 = 3.5257286443082556\n",
            "many_113 = 3.5257286443082556\n",
            "marathon_114 = 3.5257286443082556\n",
            "medical_115 = 3.5257286443082556\n",
            "meeting_116 = 2.6094379124341005\n",
            "miles_117 = 3.5257286443082556\n",
            "missed_118 = 3.5257286443082556\n",
            "months_119 = 3.5257286443082556\n",
            "most_120 = 3.5257286443082556\n",
            "movie_121 = 3.5257286443082556\n",
            "new_122 = 3.5257286443082556\n",
            "next_123 = 3.5257286443082556\n",
            "of_124 = 3.120263536200091\n",
            "on_125 = 2.83258146374831\n",
            "online_126 = 3.5257286443082556\n",
            "park_127 = 3.5257286443082556\n",
            "pizza_128 = 3.5257286443082556\n",
            "played_129 = 3.5257286443082556\n",
            "pm_130 = 3.5257286443082556\n",
            "poor_131 = 3.5257286443082556\n",
            "pride_132 = 3.5257286443082556\n",
            "project_133 = 3.5257286443082556\n",
            "promotion_134 = 3.5257286443082556\n",
            "proposed_135 = 3.5257286443082556\n",
            "public_136 = 3.5257286443082556\n",
            "puppy_137 = 3.5257286443082556\n",
            "purchase_138 = 3.5257286443082556\n",
            "received_139 = 3.120263536200091\n",
            "red_140 = 3.5257286443082556\n",
            "requiring_141 = 3.5257286443082556\n",
            "reserved_142 = 3.5257286443082556\n",
            "restaurant_143 = 3.120263536200091\n",
            "resulting_144 = 3.5257286443082556\n",
            "results_145 = 3.5257286443082556\n",
            "reviews_146 = 3.5257286443082556\n",
            "room_147 = 3.5257286443082556\n",
            "running_148 = 3.5257286443082556\n",
            "satisfied_149 = 3.5257286443082556\n",
            "savings_150 = 3.5257286443082556\n",
            "schedule_151 = 3.5257286443082556\n",
            "scheduled_152 = 3.5257286443082556\n",
            "sense_153 = 3.5257286443082556\n",
            "serves_154 = 3.5257286443082556\n",
            "service_155 = 3.5257286443082556\n",
            "she_156 = 2.6094379124341005\n",
            "shone_157 = 3.5257286443082556\n",
            "signaling_158 = 3.5257286443082556\n",
            "slow_159 = 3.5257286443082556\n",
            "smile_160 = 3.5257286443082556\n",
            "smiles_161 = 3.5257286443082556\n",
            "spirits_162 = 3.5257286443082556\n",
            "station_163 = 3.5257286443082556\n",
            "stop_164 = 3.5257286443082556\n",
            "storm_165 = 3.5257286443082556\n",
            "stranded_166 = 3.5257286443082556\n",
            "stray_167 = 3.5257286443082556\n",
            "stretched_168 = 3.5257286443082556\n",
            "sun_169 = 3.5257286443082556\n",
            "tasks_170 = 3.5257286443082556\n",
            "tasted_171 = 3.5257286443082556\n",
            "team_172 = 3.5257286443082556\n",
            "test_173 = 3.5257286443082556\n",
            "textbook_174 = 3.5257286443082556\n",
            "the_175 = 1.127833371509885\n",
            "theater_176 = 3.5257286443082556\n",
            "their_177 = 2.83258146374831\n",
            "them_178 = 3.5257286443082556\n",
            "thursday_179 = 3.5257286443082556\n",
            "time_180 = 3.5257286443082556\n",
            "to_181 = 2.139434283188365\n",
            "town_182 = 3.5257286443082556\n",
            "traffic_183 = 3.120263536200091\n",
            "train_184 = 3.5257286443082556\n",
            "transportation_185 = 3.5257286443082556\n",
            "triumphant_186 = 3.5257286443082556\n",
            "turned_187 = 3.5257286443082556\n",
            "uncertain_188 = 3.5257286443082556\n",
            "unexpected_189 = 3.5257286443082556\n",
            "ve_190 = 3.5257286443082556\n",
            "warming_191 = 3.5257286443082556\n",
            "was_192 = 3.5257286443082556\n",
            "which_193 = 3.5257286443082556\n",
            "will_194 = 3.5257286443082556\n",
            "with_195 = 3.120263536200091\n",
            "work_196 = 3.120263536200091\n"
          ]
        },
        {
          "output_type": "execute_result",
          "data": {
            "text/plain": [
              "MultinomialNB()"
            ],
            "text/html": [
              "<style>#sk-container-id-2 {color: black;background-color: white;}#sk-container-id-2 pre{padding: 0;}#sk-container-id-2 div.sk-toggleable {background-color: white;}#sk-container-id-2 label.sk-toggleable__label {cursor: pointer;display: block;width: 100%;margin-bottom: 0;padding: 0.3em;box-sizing: border-box;text-align: center;}#sk-container-id-2 label.sk-toggleable__label-arrow:before {content: \"▸\";float: left;margin-right: 0.25em;color: #696969;}#sk-container-id-2 label.sk-toggleable__label-arrow:hover:before {color: black;}#sk-container-id-2 div.sk-estimator:hover label.sk-toggleable__label-arrow:before {color: black;}#sk-container-id-2 div.sk-toggleable__content {max-height: 0;max-width: 0;overflow: hidden;text-align: left;background-color: #f0f8ff;}#sk-container-id-2 div.sk-toggleable__content pre {margin: 0.2em;color: black;border-radius: 0.25em;background-color: #f0f8ff;}#sk-container-id-2 input.sk-toggleable__control:checked~div.sk-toggleable__content {max-height: 200px;max-width: 100%;overflow: auto;}#sk-container-id-2 input.sk-toggleable__control:checked~label.sk-toggleable__label-arrow:before {content: \"▾\";}#sk-container-id-2 div.sk-estimator input.sk-toggleable__control:checked~label.sk-toggleable__label {background-color: #d4ebff;}#sk-container-id-2 div.sk-label input.sk-toggleable__control:checked~label.sk-toggleable__label {background-color: #d4ebff;}#sk-container-id-2 input.sk-hidden--visually {border: 0;clip: rect(1px 1px 1px 1px);clip: rect(1px, 1px, 1px, 1px);height: 1px;margin: -1px;overflow: hidden;padding: 0;position: absolute;width: 1px;}#sk-container-id-2 div.sk-estimator {font-family: monospace;background-color: #f0f8ff;border: 1px dotted black;border-radius: 0.25em;box-sizing: border-box;margin-bottom: 0.5em;}#sk-container-id-2 div.sk-estimator:hover {background-color: #d4ebff;}#sk-container-id-2 div.sk-parallel-item::after {content: \"\";width: 100%;border-bottom: 1px solid gray;flex-grow: 1;}#sk-container-id-2 div.sk-label:hover label.sk-toggleable__label {background-color: #d4ebff;}#sk-container-id-2 div.sk-serial::before {content: \"\";position: absolute;border-left: 1px solid gray;box-sizing: border-box;top: 0;bottom: 0;left: 50%;z-index: 0;}#sk-container-id-2 div.sk-serial {display: flex;flex-direction: column;align-items: center;background-color: white;padding-right: 0.2em;padding-left: 0.2em;position: relative;}#sk-container-id-2 div.sk-item {position: relative;z-index: 1;}#sk-container-id-2 div.sk-parallel {display: flex;align-items: stretch;justify-content: center;background-color: white;position: relative;}#sk-container-id-2 div.sk-item::before, #sk-container-id-2 div.sk-parallel-item::before {content: \"\";position: absolute;border-left: 1px solid gray;box-sizing: border-box;top: 0;bottom: 0;left: 50%;z-index: -1;}#sk-container-id-2 div.sk-parallel-item {display: flex;flex-direction: column;z-index: 1;position: relative;background-color: white;}#sk-container-id-2 div.sk-parallel-item:first-child::after {align-self: flex-end;width: 50%;}#sk-container-id-2 div.sk-parallel-item:last-child::after {align-self: flex-start;width: 50%;}#sk-container-id-2 div.sk-parallel-item:only-child::after {width: 0;}#sk-container-id-2 div.sk-dashed-wrapped {border: 1px dashed gray;margin: 0 0.4em 0.5em 0.4em;box-sizing: border-box;padding-bottom: 0.4em;background-color: white;}#sk-container-id-2 div.sk-label label {font-family: monospace;font-weight: bold;display: inline-block;line-height: 1.2em;}#sk-container-id-2 div.sk-label-container {text-align: center;}#sk-container-id-2 div.sk-container {/* jupyter's `normalize.less` sets `[hidden] { display: none; }` but bootstrap.min.css set `[hidden] { display: none !important; }` so we also need the `!important` here to be able to override the default hidden behavior on the sphinx rendered scikit-learn.org. See: https://github.com/scikit-learn/scikit-learn/issues/21755 */display: inline-block !important;position: relative;}#sk-container-id-2 div.sk-text-repr-fallback {display: none;}</style><div id=\"sk-container-id-2\" class=\"sk-top-container\"><div class=\"sk-text-repr-fallback\"><pre>MultinomialNB()</pre><b>In a Jupyter environment, please rerun this cell to show the HTML representation or trust the notebook. <br />On GitHub, the HTML representation is unable to render, please try loading this page with nbviewer.org.</b></div><div class=\"sk-container\" hidden><div class=\"sk-item\"><div class=\"sk-estimator sk-toggleable\"><input class=\"sk-toggleable__control sk-hidden--visually\" id=\"sk-estimator-id-2\" type=\"checkbox\" checked><label for=\"sk-estimator-id-2\" class=\"sk-toggleable__label sk-toggleable__label-arrow\">MultinomialNB</label><div class=\"sk-toggleable__content\"><pre>MultinomialNB()</pre></div></div></div></div></div>"
            ]
          },
          "metadata": {},
          "execution_count": 13
        }
      ]
    },
    {
      "cell_type": "code",
      "source": [
        "from sklearn.metrics import classification_report\n",
        "\n",
        "# Transform the test data using the fitted TF-IDF vectorizer\n",
        "X_test_tfidf = tfidf_vectorizer.transform(X_test)\n",
        "\n",
        "# Predict the labels for the test data\n",
        "y_pred = classifier.predict(X_test_tfidf)\n",
        "print(y_test)\n",
        "print(y_pred)\n",
        "# Generate classification report\n",
        "report = classification_report(y_test, y_pred)\n",
        "\n",
        "# Print the classification report\n",
        "print(\"Classification Report:\")\n",
        "print(report)"
      ],
      "metadata": {
        "colab": {
          "base_uri": "https://localhost:8080/"
        },
        "id": "in2FqLaJNHoQ",
        "outputId": "eb36fbbb-8c35-4f12-fb11-ab11133f88fe"
      },
      "execution_count": null,
      "outputs": [
        {
          "output_type": "stream",
          "name": "stdout",
          "text": [
            "2     1\n",
            "28    0\n",
            "13    0\n",
            "10    1\n",
            "26   -1\n",
            "24    0\n",
            "Name: Label, dtype: int64\n",
            "[ 1  0  0  1 -1  0]\n",
            "Classification Report:\n",
            "              precision    recall  f1-score   support\n",
            "\n",
            "          -1       1.00      1.00      1.00         1\n",
            "           0       1.00      1.00      1.00         3\n",
            "           1       1.00      1.00      1.00         2\n",
            "\n",
            "    accuracy                           1.00         6\n",
            "   macro avg       1.00      1.00      1.00         6\n",
            "weighted avg       1.00      1.00      1.00         6\n",
            "\n"
          ]
        }
      ]
    },
    {
      "cell_type": "code",
      "source": [
        "text=[\"The concert was amazing, with the crowd cheering and singing along to every song.\"]\n",
        "text_tfidf = tfidf_vectorizer.transform(text)\n",
        "pred=classifier.predict(text_tfidf)\n",
        "print(pred)"
      ],
      "metadata": {
        "colab": {
          "base_uri": "https://localhost:8080/"
        },
        "id": "bsfhf_zfSdpW",
        "outputId": "cef8bd7d-6fe7-469b-a9e3-694d6bd0b671"
      },
      "execution_count": null,
      "outputs": [
        {
          "output_type": "stream",
          "name": "stdout",
          "text": [
            "[1]\n"
          ]
        }
      ]
    },
    {
      "cell_type": "code",
      "source": [
        "# Make prediction probabilities for the given text\n",
        "pred_proba = classifier.predict_proba(text_tfidf)\n",
        "print(pred_proba)\n",
        "# Extract the probability of the predicted class\n",
        "confidence_level = pred_proba[0, classifier.classes_ == pred]\n",
        "\n",
        "# Print prediction, confidence level, and probabilities for all classes\n",
        "print(\"Predicted class:\", pred)\n",
        "print(\"Confidence level:\", confidence_level)\n",
        "print(\"Probabilities for all classes:\", pred_proba[0])\n"
      ],
      "metadata": {
        "colab": {
          "base_uri": "https://localhost:8080/"
        },
        "id": "G7Ex_yxMaxME",
        "outputId": "2c97b18d-1f38-458f-e467-e283cc006197"
      },
      "execution_count": null,
      "outputs": [
        {
          "output_type": "stream",
          "name": "stdout",
          "text": [
            "[[0.32007729 0.24169997 0.43822274]]\n",
            "Predicted class: [1]\n",
            "Confidence level: [0.43822274]\n",
            "Probabilities for all classes: [0.32007729 0.24169997 0.43822274]\n"
          ]
        }
      ]
    }
  ]
}