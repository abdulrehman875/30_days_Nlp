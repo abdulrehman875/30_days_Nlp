{
  "nbformat": 4,
  "nbformat_minor": 0,
  "metadata": {
    "colab": {
      "provenance": []
    },
    "kernelspec": {
      "name": "python3",
      "display_name": "Python 3"
    },
    "language_info": {
      "name": "python"
    }
  },
  "cells": [
    {
      "cell_type": "code",
      "source": [
        "# Mount Google Drive\n",
        "from google.colab import drive\n",
        "drive.mount('/content/drive')\n"
      ],
      "metadata": {
        "colab": {
          "base_uri": "https://localhost:8080/"
        },
        "id": "83gPLTijMm9-",
        "outputId": "6d512735-5ecc-4355-b264-446543f697db"
      },
      "execution_count": 5,
      "outputs": [
        {
          "output_type": "stream",
          "name": "stdout",
          "text": [
            "Drive already mounted at /content/drive; to attempt to forcibly remount, call drive.mount(\"/content/drive\", force_remount=True).\n"
          ]
        }
      ]
    },
    {
      "cell_type": "code",
      "execution_count": 24,
      "metadata": {
        "id": "90mOxzcAqsSQ",
        "colab": {
          "base_uri": "https://localhost:8080/"
        },
        "outputId": "8fd6e1de-30da-4134-efe0-446ee985671f"
      },
      "outputs": [
        {
          "output_type": "stream",
          "name": "stdout",
          "text": [
            "       reviewerID        asin                    reviewerName helpful  \\\n",
            "0    AIXZKN4ACSKI  1881509818                    David Briner  [0, 0]   \n",
            "1  A1L5P841VIO02V  1881509818                 Jason A. Kramer  [1, 1]   \n",
            "2   AB2W04NI4OEAD  1881509818                      J. Fernald  [2, 2]   \n",
            "3  A148SVSWKTJKU6  1881509818  Jusitn A. Watts \"Maverick9614\"  [0, 0]   \n",
            "4   AAAWJ6LW9WMOO  1881509818                    Material Man  [0, 0]   \n",
            "\n",
            "                                          reviewText  overall  \\\n",
            "0  This came in on time and I am veru happy with ...      5.0   \n",
            "1  I had a factory Glock tool that I was using fo...      5.0   \n",
            "2  If you don't have a 3/32 punch or would like t...      4.0   \n",
            "3  This works no better than any 3/32 punch you w...      4.0   \n",
            "4  I purchased this thinking maybe I need a speci...      4.0   \n",
            "\n",
            "                                   summary  unixReviewTime   reviewTime  \n",
            "0                           Woks very good      1390694400  01 26, 2014  \n",
            "1        Works as well as the factory tool      1328140800   02 2, 2012  \n",
            "2                It's a punch, that's all.      1330387200  02 28, 2012  \n",
            "3          It's a punch with a Glock logo.      1328400000   02 5, 2012  \n",
            "4  Ok,tool does what a regular punch does.      1366675200  04 23, 2013  \n"
          ]
        }
      ],
      "source": [
        "import requests\n",
        "import gzip\n",
        "import json\n",
        "import pandas as pd\n",
        "import gensim\n",
        "# URL of the JSON file\n",
        "url = \"http://snap.stanford.edu/data/amazon/productGraph/categoryFiles/reviews_Sports_and_Outdoors_5.json.gz\"\n",
        "\n",
        "# Download the file\n",
        "response = requests.get(url)\n",
        "\n",
        "# Check if the request was successful\n",
        "if response.status_code == 200:\n",
        "    # Save the content to a file\n",
        "    with open(\"/content/reviews_Sports_and_Outdoors_5.json.gz\", \"wb\") as f:\n",
        "        f.write(response.content)\n",
        "\n",
        "    # Extract the gzip file\n",
        "    with gzip.open(\"/content/reviews_Sports_and_Outdoors_5.json.gz\", \"rb\") as f:\n",
        "        data = [json.loads(line) for line in f]\n",
        "\n",
        "    # Convert data to DataFrame\n",
        "    df = pd.DataFrame(data)\n",
        "\n",
        "    # Display the DataFrame\n",
        "    print(df.head())\n",
        "else:\n",
        "    print(\"Failed to download the file.\")\n"
      ]
    },
    {
      "cell_type": "code",
      "source": [
        "df.shape"
      ],
      "metadata": {
        "colab": {
          "base_uri": "https://localhost:8080/"
        },
        "id": "i6wcoWrMbkYk",
        "outputId": "1ed471c1-004f-4a74-df89-86acb4f0b157"
      },
      "execution_count": 26,
      "outputs": [
        {
          "output_type": "execute_result",
          "data": {
            "text/plain": [
              "(296337, 9)"
            ]
          },
          "metadata": {},
          "execution_count": 26
        }
      ]
    },
    {
      "cell_type": "code",
      "source": [
        "df.reviewText[0]"
      ],
      "metadata": {
        "colab": {
          "base_uri": "https://localhost:8080/",
          "height": 35
        },
        "id": "l8OszRhiebpV",
        "outputId": "dceac212-3a45-4960-bcc8-4e5630ebee77"
      },
      "execution_count": 33,
      "outputs": [
        {
          "output_type": "execute_result",
          "data": {
            "text/plain": [
              "'This came in on time and I am veru happy with it, I haved used it already and it makes taking out the pins in my glock 32 very easy'"
            ],
            "application/vnd.google.colaboratory.intrinsic+json": {
              "type": "string"
            }
          },
          "metadata": {},
          "execution_count": 33
        }
      ]
    },
    {
      "cell_type": "code",
      "source": [
        "reviewText=df.reviewText.apply(gensim.utils.simple_preprocess)\n",
        "reviewText"
      ],
      "metadata": {
        "colab": {
          "base_uri": "https://localhost:8080/"
        },
        "id": "FeUkAAYGfHmD",
        "outputId": "3a50aa44-c425-4354-fc74-c29850073114"
      },
      "execution_count": 57,
      "outputs": [
        {
          "output_type": "execute_result",
          "data": {
            "text/plain": [
              "0         [this, came, in, on, time, and, am, veru, happ...\n",
              "1         [had, factory, glock, tool, that, was, using, ...\n",
              "2         [if, you, don, have, punch, or, would, like, t...\n",
              "3         [this, works, no, better, than, any, punch, yo...\n",
              "4         [purchased, this, thinking, maybe, need, speci...\n",
              "                                ...                        \n",
              "296332    [this, is, water, bottle, done, right, it, is,...\n",
              "296333    [if, you, re, looking, for, an, insulated, wat...\n",
              "296334    [this, hydracentials, sporty, oz, double, insu...\n",
              "296335    [as, usual, received, this, item, free, in, ex...\n",
              "296336    [hydracentials, insulated, oz, water, bottle, ...\n",
              "Name: reviewText, Length: 296337, dtype: object"
            ]
          },
          "metadata": {},
          "execution_count": 57
        }
      ]
    },
    {
      "cell_type": "code",
      "source": [
        "model=gensim.models.Word2Vec(\n",
        "    window=10,\n",
        "    min_count=2,\n",
        "    workers=4,\n",
        "    sorted_vocab=False\n",
        "\n",
        ")\n"
      ],
      "metadata": {
        "id": "TPfWryK2gp5k"
      },
      "execution_count": 58,
      "outputs": []
    },
    {
      "cell_type": "code",
      "source": [
        "model.build_vocab(reviewText,progress_per=1000)"
      ],
      "metadata": {
        "id": "KYEonhUUjgD5"
      },
      "execution_count": 48,
      "outputs": []
    },
    {
      "cell_type": "code",
      "source": [
        "model.epochs"
      ],
      "metadata": {
        "colab": {
          "base_uri": "https://localhost:8080/"
        },
        "id": "XF_VUGt6k0UT",
        "outputId": "b7620200-5146-4653-c042-aa4586996874"
      },
      "execution_count": 49,
      "outputs": [
        {
          "output_type": "execute_result",
          "data": {
            "text/plain": [
              "5"
            ]
          },
          "metadata": {},
          "execution_count": 49
        }
      ]
    },
    {
      "cell_type": "code",
      "source": [
        "model.train(reviewText,total_examples=model.corpus_count,epochs=model.epochs)"
      ],
      "metadata": {
        "colab": {
          "base_uri": "https://localhost:8080/"
        },
        "id": "uUCAMeQ0ltVX",
        "outputId": "83fe6900-c1b3-49b9-8b21-5e898132d224"
      },
      "execution_count": 50,
      "outputs": [
        {
          "output_type": "execute_result",
          "data": {
            "text/plain": [
              "(91343787, 121496535)"
            ]
          },
          "metadata": {},
          "execution_count": 50
        }
      ]
    },
    {
      "cell_type": "code",
      "source": [
        "model.save(\"/content/drive/My Drive/word2vec_model.bin\")"
      ],
      "metadata": {
        "id": "KEI_FxaYnnQS"
      },
      "execution_count": 54,
      "outputs": []
    },
    {
      "cell_type": "code",
      "source": [
        "model_saved = Word2Vec.load(\"/content/drive/My Drive/word2vec_model.bin\")\n",
        "model_saved.wv.most_similar(\"sports\")"
      ],
      "metadata": {
        "colab": {
          "base_uri": "https://localhost:8080/"
        },
        "id": "KPw8mf5forua",
        "outputId": "0aeaa58d-b374-4b14-aa83-28a3b572f1a2"
      },
      "execution_count": 75,
      "outputs": [
        {
          "output_type": "execute_result",
          "data": {
            "text/plain": [
              "[('sport', 0.7359817624092102),\n",
              " ('ymca', 0.6615786552429199),\n",
              " ('volleyball', 0.6418856382369995),\n",
              " ('events', 0.6269948482513428),\n",
              " ('racquetball', 0.6048140525817871),\n",
              " ('chalet', 0.6025053262710571),\n",
              " ('athletes', 0.5872717499732971),\n",
              " ('academy', 0.5871973633766174),\n",
              " ('sporting', 0.5845939517021179),\n",
              " ('divers', 0.5814198851585388)]"
            ]
          },
          "metadata": {},
          "execution_count": 75
        }
      ]
    },
    {
      "cell_type": "code",
      "source": [
        "model_saved.wv.similarity(w1=\"received\",w2=\"collected\")"
      ],
      "metadata": {
        "colab": {
          "base_uri": "https://localhost:8080/"
        },
        "id": "JD2AOTP1pt0Q",
        "outputId": "16664618-9abc-4287-ec8b-11b704bd05fd"
      },
      "execution_count": 59,
      "outputs": [
        {
          "output_type": "execute_result",
          "data": {
            "text/plain": [
              "0.100263946"
            ]
          },
          "metadata": {},
          "execution_count": 59
        }
      ]
    },
    {
      "cell_type": "code",
      "source": [
        "model_saved.wv.similarity(w1=\"amazing\",w2=\"awesome\")"
      ],
      "metadata": {
        "colab": {
          "base_uri": "https://localhost:8080/"
        },
        "id": "F5rhHdyOqtB3",
        "outputId": "ceb7208e-789d-4081-f884-d0725717b156"
      },
      "execution_count": 71,
      "outputs": [
        {
          "output_type": "execute_result",
          "data": {
            "text/plain": [
              "0.8907093"
            ]
          },
          "metadata": {},
          "execution_count": 71
        }
      ]
    },
    {
      "cell_type": "code",
      "source": [
        "model_saved.wv.similarity(w1=\"great\",w2=\"product\")"
      ],
      "metadata": {
        "colab": {
          "base_uri": "https://localhost:8080/"
        },
        "id": "O660Ep1mqn-T",
        "outputId": "29c215ed-7c11-479f-b82d-d546ad558b67"
      },
      "execution_count": 60,
      "outputs": [
        {
          "output_type": "execute_result",
          "data": {
            "text/plain": [
              "-0.11862085"
            ]
          },
          "metadata": {},
          "execution_count": 60
        }
      ]
    }
  ]
}