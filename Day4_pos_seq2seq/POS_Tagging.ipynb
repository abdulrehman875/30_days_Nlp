{
  "nbformat": 4,
  "nbformat_minor": 0,
  "metadata": {
    "colab": {
      "provenance": []
    },
    "kernelspec": {
      "name": "python3",
      "display_name": "Python 3"
    },
    "language_info": {
      "name": "python"
    }
  },
  "cells": [
    {
      "cell_type": "markdown",
      "source": [],
      "metadata": {
        "id": "icmxHn7hHepI"
      }
    },
    {
      "cell_type": "markdown",
      "source": [
        "# Part Of Speech Tagging\n",
        "\n",
        "\n"
      ],
      "metadata": {
        "id": "j-Yd9gvRFIVP"
      }
    },
    {
      "cell_type": "code",
      "execution_count": 18,
      "metadata": {
        "id": "4HqComQbVzDK"
      },
      "outputs": [],
      "source": [
        "import spacy\n",
        "nlp=spacy.load(\"en_core_web_sm\")"
      ]
    },
    {
      "cell_type": "code",
      "source": [
        "doc=nlp(\"I am currently working on a new project.They are enjoying their vacation in Hawaii.He is studying for his upcoming exams.\")\n",
        "print(doc)"
      ],
      "metadata": {
        "colab": {
          "base_uri": "https://localhost:8080/"
        },
        "id": "12lTcNMXHtOt",
        "outputId": "0008f0b2-3fa9-40f4-93cf-4f943b6097e4"
      },
      "execution_count": 19,
      "outputs": [
        {
          "output_type": "stream",
          "name": "stdout",
          "text": [
            "I am currently working on a new project.They are enjoying their vacation in Hawaii.He is studying for his upcoming exams.\n"
          ]
        }
      ]
    },
    {
      "cell_type": "code",
      "source": [
        "for tokens in doc:\n",
        "  print(tokens,\"|\",tokens.pos,\"|\",tokens.pos_,\"|\",spacy.explain(tokens.pos_))"
      ],
      "metadata": {
        "colab": {
          "base_uri": "https://localhost:8080/"
        },
        "id": "NrFGiulFH0Yu",
        "outputId": "9a4e5440-2e58-4364-f234-c6c92674f5a0"
      },
      "execution_count": 20,
      "outputs": [
        {
          "output_type": "stream",
          "name": "stdout",
          "text": [
            "I | 95 | PRON | pronoun\n",
            "am | 87 | AUX | auxiliary\n",
            "currently | 86 | ADV | adverb\n",
            "working | 100 | VERB | verb\n",
            "on | 85 | ADP | adposition\n",
            "a | 90 | DET | determiner\n",
            "new | 84 | ADJ | adjective\n",
            "project | 92 | NOUN | noun\n",
            ". | 97 | PUNCT | punctuation\n",
            "They | 95 | PRON | pronoun\n",
            "are | 87 | AUX | auxiliary\n",
            "enjoying | 100 | VERB | verb\n",
            "their | 95 | PRON | pronoun\n",
            "vacation | 92 | NOUN | noun\n",
            "in | 85 | ADP | adposition\n",
            "Hawaii | 96 | PROPN | proper noun\n",
            ". | 97 | PUNCT | punctuation\n",
            "He | 95 | PRON | pronoun\n",
            "is | 87 | AUX | auxiliary\n",
            "studying | 100 | VERB | verb\n",
            "for | 85 | ADP | adposition\n",
            "his | 95 | PRON | pronoun\n",
            "upcoming | 84 | ADJ | adjective\n",
            "exams | 92 | NOUN | noun\n",
            ". | 97 | PUNCT | punctuation\n"
          ]
        }
      ]
    },
    {
      "cell_type": "code",
      "source": [
        "for tokens in doc:\n",
        "  print(tokens,\"|\",tokens.tag_,\"|\",spacy.explain(tokens.tag_))"
      ],
      "metadata": {
        "colab": {
          "base_uri": "https://localhost:8080/"
        },
        "id": "Fqnhe09_H4XR",
        "outputId": "e347a2fe-8e58-4fde-c259-a2df287459a0"
      },
      "execution_count": 21,
      "outputs": [
        {
          "output_type": "stream",
          "name": "stdout",
          "text": [
            "I | PRP | pronoun, personal\n",
            "am | VBP | verb, non-3rd person singular present\n",
            "currently | RB | adverb\n",
            "working | VBG | verb, gerund or present participle\n",
            "on | IN | conjunction, subordinating or preposition\n",
            "a | DT | determiner\n",
            "new | JJ | adjective (English), other noun-modifier (Chinese)\n",
            "project | NN | noun, singular or mass\n",
            ". | . | punctuation mark, sentence closer\n",
            "They | PRP | pronoun, personal\n",
            "are | VBP | verb, non-3rd person singular present\n",
            "enjoying | VBG | verb, gerund or present participle\n",
            "their | PRP$ | pronoun, possessive\n",
            "vacation | NN | noun, singular or mass\n",
            "in | IN | conjunction, subordinating or preposition\n",
            "Hawaii | NNP | noun, proper singular\n",
            ". | . | punctuation mark, sentence closer\n",
            "He | PRP | pronoun, personal\n",
            "is | VBZ | verb, 3rd person singular present\n",
            "studying | VBG | verb, gerund or present participle\n",
            "for | IN | conjunction, subordinating or preposition\n",
            "his | PRP$ | pronoun, possessive\n",
            "upcoming | JJ | adjective (English), other noun-modifier (Chinese)\n",
            "exams | NNS | noun, plural\n",
            ". | . | punctuation mark, sentence closer\n"
          ]
        }
      ]
    }
  ]
}